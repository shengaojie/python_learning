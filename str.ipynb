{
 "cells": [
  {
   "cell_type": "code",
   "execution_count": 1,
   "metadata": {
    "collapsed": true,
    "ExecuteTime": {
     "end_time": "2024-04-01T08:30:51.818855Z",
     "start_time": "2024-04-01T08:30:51.811400Z"
    }
   },
   "outputs": [
    {
     "name": "stdout",
     "output_type": "stream",
     "text": [
      "hello python!!\n",
      "hello python\n"
     ]
    }
   ],
   "source": [
    "# 字符串可以使用单引号或者是双引号表示\n",
    "print(\"hello python!!\")\n",
    "print('hello python')"
   ]
  },
  {
   "cell_type": "code",
   "execution_count": 14,
   "outputs": [
    {
     "name": "stdout",
     "output_type": "stream",
     "text": [
      "Shengaojie\n",
      "DINGCC\n",
      "dingcc\n",
      "shen gaojie\n",
      "chinese  \n",
      "chinese\n",
      " meat \n",
      "meat\n"
     ]
    }
   ],
   "source": [
    "# 字符串的常用方法\n",
    "# 1. 修改字符串的大小写,title方法可以将字符串的首字符大写\n",
    "name = \"shengaojie\"\n",
    "print(name.title())\n",
    "\n",
    "# 2. upper 和 lower 将字符串整体改为大小写\n",
    "name = 'dingcc'\n",
    "print(name.upper())\n",
    "print(name.lower())\n",
    "\n",
    "\n",
    "# 3. 合并字符串，使用 +\n",
    "first_name = \"shen\"\n",
    "last_name = \"gaojie\"\n",
    "full_name = first_name + \" \" + last_name\n",
    "print(full_name)\n",
    "\n",
    "#4. 删除空白,rstrip lstrip strip方法可以删除字符串两侧的空白行\n",
    "favorite_language = \"chinese  \"\n",
    "print(favorite_language)\n",
    "print(favorite_language.rstrip())\n",
    "favorite_food = \" meat \"\n",
    "print(favorite_food)\n",
    "print(favorite_food.strip())"
   ],
   "metadata": {
    "collapsed": false,
    "ExecuteTime": {
     "end_time": "2024-04-01T08:43:00.846543Z",
     "start_time": "2024-04-01T08:43:00.837451Z"
    }
   }
  },
  {
   "cell_type": "code",
   "execution_count": 8,
   "outputs": [
    {
     "name": "stdout",
     "output_type": "stream",
     "text": [
      "python\n",
      "\tpython\n",
      "\n",
      "python\n",
      "java\n",
      "c#\n"
     ]
    }
   ],
   "source": [
    "# 在字符串中使用转义字符\n",
    "print(\"python\")\n",
    "print(\"\\tpython\")\n",
    "print(\"\\npython\\njava\\nc#\")"
   ],
   "metadata": {
    "collapsed": false,
    "ExecuteTime": {
     "end_time": "2024-04-01T08:36:41.186578Z",
     "start_time": "2024-04-01T08:36:41.184291Z"
    }
   }
  }
 ],
 "metadata": {
  "kernelspec": {
   "display_name": "Python 3",
   "language": "python",
   "name": "python3"
  },
  "language_info": {
   "codemirror_mode": {
    "name": "ipython",
    "version": 2
   },
   "file_extension": ".py",
   "mimetype": "text/x-python",
   "name": "python",
   "nbconvert_exporter": "python",
   "pygments_lexer": "ipython2",
   "version": "2.7.6"
  }
 },
 "nbformat": 4,
 "nbformat_minor": 0
}
