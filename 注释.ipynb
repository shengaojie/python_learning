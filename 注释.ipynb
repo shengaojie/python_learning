{
 "cells": [
  {
   "cell_type": "code",
   "execution_count": 6,
   "metadata": {
    "collapsed": true,
    "ExecuteTime": {
     "end_time": "2024-04-01T09:13:09.200138Z",
     "start_time": "2024-04-01T09:13:09.195772Z"
    }
   },
   "outputs": [
    {
     "name": "stdout",
     "output_type": "stream",
     "text": [
      "单行注释\n"
     ]
    },
    {
     "data": {
      "text/plain": "'\\n这个也是多行注释，使用三个双引号\\n'"
     },
     "execution_count": 6,
     "metadata": {},
     "output_type": "execute_result"
    }
   ],
   "source": [
    "# 这个是单行注释\n",
    "print(\"单行注释\")\n",
    "\n",
    "'''\n",
    "这是多行注释，使用三个单引号\n",
    "'''\n",
    "\n",
    "\"\"\"\n",
    "这个也是多行注释，使用三个双引号\n",
    "\"\"\"\n"
   ]
  }
 ],
 "metadata": {
  "kernelspec": {
   "display_name": "Python 3",
   "language": "python",
   "name": "python3"
  },
  "language_info": {
   "codemirror_mode": {
    "name": "ipython",
    "version": 2
   },
   "file_extension": ".py",
   "mimetype": "text/x-python",
   "name": "python",
   "nbconvert_exporter": "python",
   "pygments_lexer": "ipython2",
   "version": "2.7.6"
  }
 },
 "nbformat": 4,
 "nbformat_minor": 0
}
