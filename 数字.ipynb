{
 "cells": [
  {
   "cell_type": "code",
   "execution_count": 5,
   "metadata": {
    "collapsed": true,
    "ExecuteTime": {
     "end_time": "2024-04-01T09:06:12.890503Z",
     "start_time": "2024-04-01T09:06:12.883134Z"
    }
   },
   "outputs": [
    {
     "name": "stdout",
     "output_type": "stream",
     "text": [
      "5\n",
      "python中的一般除法：1.5\n",
      "python中的地板除法：1\n",
      "9\n"
     ]
    }
   ],
   "source": [
    "# 整数\n",
    "print(2 + 3)\n",
    "# java中的3 / 2会返回1，java中如果想要返回1.5，需要使用3.0 / 2\n",
    "# python中返回1.5，如果python想要返回1，需要使用3 // 2\n",
    "print(\"python中的一般除法：\" + str(3 / 2))\n",
    "print(\"python中的地板除法：\" + str(3 // 2))\n",
    "print(3 ** 2)"
   ]
  },
  {
   "cell_type": "code",
   "execution_count": 12,
   "outputs": [
    {
     "name": "stdout",
     "output_type": "stream",
     "text": [
      "0.2\n",
      "0.30000000000000004\n",
      "0.300\n"
     ]
    }
   ],
   "source": [
    "# 浮点数\n",
    "print(0.1 + 0.1)\n",
    "# 结果包含的小数位数可能是不确定的：\n",
    "print(0.2 + 0.1)\n",
    "print(\"%.3f\" %(0.2 + 0.1))"
   ],
   "metadata": {
    "collapsed": false,
    "ExecuteTime": {
     "end_time": "2024-04-01T09:09:41.009064Z",
     "start_time": "2024-04-01T09:09:41.001797Z"
    }
   }
  }
 ],
 "metadata": {
  "kernelspec": {
   "display_name": "Python 3",
   "language": "python",
   "name": "python3"
  },
  "language_info": {
   "codemirror_mode": {
    "name": "ipython",
    "version": 2
   },
   "file_extension": ".py",
   "mimetype": "text/x-python",
   "name": "python",
   "nbconvert_exporter": "python",
   "pygments_lexer": "ipython2",
   "version": "2.7.6"
  }
 },
 "nbformat": 4,
 "nbformat_minor": 0
}
