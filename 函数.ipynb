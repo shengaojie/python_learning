{
 "cells": [
  {
   "cell_type": "code",
   "execution_count": 2,
   "metadata": {
    "collapsed": true,
    "ExecuteTime": {
     "end_time": "2024-04-01T14:44:57.508761Z",
     "start_time": "2024-04-01T14:44:57.504562Z"
    }
   },
   "outputs": [
    {
     "name": "stdout",
     "output_type": "stream",
     "text": [
      "Hello, Shengaojie!\n"
     ]
    }
   ],
   "source": [
    "# 定义一个函数\n",
    "def great_user(username):\n",
    "    \"\"\"显示简单的问候语\"\"\"\n",
    "    print(\"Hello, \" + username.title() + \"!\")\n",
    "\n",
    "great_user(\"shengaojie\")"
   ]
  },
  {
   "cell_type": "code",
   "execution_count": 4,
   "outputs": [
    {
     "name": "stdout",
     "output_type": "stream",
     "text": [
      "\n",
      "I have a hamster.\n",
      "My hamster's name is Harry.\n",
      "=========================\n",
      "\n",
      "I have a hamster.\n",
      "My hamster's name is Harry.\n",
      "=========================\n",
      "\n",
      "I have a hamster.\n",
      "My hamster's name is Harry.\n"
     ]
    }
   ],
   "source": [
    "# 关键字参数\n",
    "def describe_pet(animal_type, pet_name):\n",
    "    \"\"\"显示宠物的信息\"\"\"\n",
    "    print(\"\\nI have a \" + animal_type + \".\")\n",
    "    print(\"My \" + animal_type + \"'s name is \" + pet_name.title() + \".\")\n",
    "\n",
    "# 下面几种调用的方式是一样的\n",
    "describe_pet('hamster', 'harry')\n",
    "print('=========================')\n",
    "describe_pet(animal_type='hamster', pet_name='harry')\n",
    "print(\"=========================\")\n",
    "describe_pet(pet_name='harry', animal_type='hamster')"
   ],
   "metadata": {
    "collapsed": false,
    "ExecuteTime": {
     "end_time": "2024-04-01T14:49:34.701395Z",
     "start_time": "2024-04-01T14:49:34.697421Z"
    }
   }
  },
  {
   "cell_type": "code",
   "execution_count": 7,
   "outputs": [
    {
     "name": "stdout",
     "output_type": "stream",
     "text": [
      "\n",
      "I have a hamster.\n",
      "My hamster's name is Dog.\n",
      "\n",
      "I have a hamster.\n",
      "My hamster's name is Cat.\n"
     ]
    }
   ],
   "source": [
    "# 参数的默认值\n",
    "def describe_pet(animal_type, pet_name='dog'):\n",
    "    \"\"\"显示宠物的信息\"\"\"\n",
    "    print(\"\\nI have a \" + animal_type + \".\")\n",
    "    print(\"My \" + animal_type + \"'s name is \" + pet_name.title() + \".\")\n",
    "\n",
    "describe_pet('hamster')\n",
    "describe_pet('hamster', 'cat')"
   ],
   "metadata": {
    "collapsed": false,
    "ExecuteTime": {
     "end_time": "2024-04-01T14:51:14.918106Z",
     "start_time": "2024-04-01T14:51:14.898912Z"
    }
   }
  },
  {
   "cell_type": "code",
   "execution_count": 10,
   "outputs": [
    {
     "name": "stdout",
     "output_type": "stream",
     "text": [
      "{'first': 'shen', 'last': 'gaojie'}\n"
     ]
    }
   ],
   "source": [
    "# 函数的返回值\n",
    "def build_person(first_name, last_name):\n",
    "    person = {'first': first_name, 'last': last_name}\n",
    "    return person\n",
    "\n",
    "person = build_person('shen', 'gaojie')\n",
    "print(person)\n"
   ],
   "metadata": {
    "collapsed": false,
    "ExecuteTime": {
     "end_time": "2024-04-01T14:55:33.529641Z",
     "start_time": "2024-04-01T14:55:33.516609Z"
    }
   }
  },
  {
   "cell_type": "code",
   "execution_count": 22,
   "outputs": [
    {
     "name": "stdout",
     "output_type": "stream",
     "text": [
      "Hello shengaojie !\n",
      "Hello dingcc !\n",
      "Hello yangtianci !\n",
      "['shengaojie', 'dingcc', 'yangtianci']\n"
     ]
    }
   ],
   "source": [
    "# 传递列表\n",
    "def hello_everyone(names):\n",
    "    for name in names:\n",
    "        print(\"Hello \" + name + \" !\")\n",
    "\n",
    "names = ['shengaojie', 'dingcc', 'yangtianci']\n",
    "hello_everyone(names)\n",
    "\n",
    "\n",
    "# 在函数中修改列表\n",
    "def modify_list_in_method(names):\n",
    "    names[0] = 'gaojie'\n",
    "    names[1] = 'chenchen'\n",
    "\n",
    "# modify_list_in_method(names)\n",
    "# print(names)\n",
    "\n",
    "\n",
    "# 如果不想列表传入函数中被修改了，可以传入列表的副本\n",
    "modify_list_in_method(names[:])\n",
    "print(names)"
   ],
   "metadata": {
    "collapsed": false,
    "ExecuteTime": {
     "end_time": "2024-04-01T15:04:57.549997Z",
     "start_time": "2024-04-01T15:04:57.532266Z"
    }
   }
  },
  {
   "cell_type": "code",
   "execution_count": 24,
   "outputs": [
    {
     "name": "stdout",
     "output_type": "stream",
     "text": [
      "('mushrooms',)\n",
      "('mushrooms', 'green peppers', 'extra cheese')\n"
     ]
    }
   ],
   "source": [
    "# 任意数量的参数\n",
    "# *toppings：表示创建一个名字为toppings的空的元组，将传入函数的参数都加入到元组中\n",
    "def make_pizza(*toppings):\n",
    "    \"\"\"打印顾客点的所有配料\"\"\"\n",
    "    print(toppings)\n",
    "\n",
    "make_pizza('mushrooms')\n",
    "make_pizza('mushrooms', 'green peppers', 'extra cheese')"
   ],
   "metadata": {
    "collapsed": false,
    "ExecuteTime": {
     "end_time": "2024-04-01T15:10:35.038015Z",
     "start_time": "2024-04-01T15:10:35.023308Z"
    }
   }
  },
  {
   "cell_type": "code",
   "execution_count": 27,
   "outputs": [
    {
     "name": "stdout",
     "output_type": "stream",
     "text": [
      "make a 10 pizza need toppings are: \n",
      "--mushrooms\n",
      "--green peppers\n",
      "--extra cheese\n"
     ]
    }
   ],
   "source": [
    "# 结合使用位置实参和任意数量实参\n",
    "def make_pizza(size, *toppings):\n",
    "    print(\"make a \" + str(size) + \" pizza need toppings are: \")\n",
    "    for topping in toppings:\n",
    "        print(\"--\" + topping)\n",
    "\n",
    "make_pizza(10, 'mushrooms', 'green peppers', 'extra cheese')"
   ],
   "metadata": {
    "collapsed": false,
    "ExecuteTime": {
     "end_time": "2024-04-01T15:12:50.932314Z",
     "start_time": "2024-04-01T15:12:50.919371Z"
    }
   }
  },
  {
   "cell_type": "code",
   "execution_count": 34,
   "outputs": [
    {
     "name": "stdout",
     "output_type": "stream",
     "text": [
      "{'first': 'shen', 'last': 'gaojie', 'location': 'heibei', 'hobby': 'coding'}\n"
     ]
    }
   ],
   "source": [
    "# 使用任意数量的关键字实参\n",
    "def build_profile(first_name, last_name, **user_info):\n",
    "    person = {}\n",
    "    person['first'] = first_name\n",
    "    person['last'] = last_name\n",
    "    for key, value in user_info.items():\n",
    "        person[key] = value\n",
    "    return person\n",
    "\n",
    "user_profile = build_profile('shen', 'gaojie', location = 'heibei', hobby = 'coding')\n",
    "print(user_profile)\n"
   ],
   "metadata": {
    "collapsed": false,
    "ExecuteTime": {
     "end_time": "2024-04-01T15:20:13.667378Z",
     "start_time": "2024-04-01T15:20:13.641350Z"
    }
   }
  },
  {
   "cell_type": "code",
   "execution_count": null,
   "outputs": [],
   "source": [
    "# 导入整个模块，pizza.py文件\n",
    "# import pizza\n",
    "# 这种方式需要通过使用 模块名.function,如pizza.make_pizza()\n",
    "\n",
    "\n",
    "# 导入某个模块的具体几个方法\n",
    "# from module_name import function_0, function_1, function_2\n",
    "# 直接调用make_pizza()\n",
    "\n",
    "# 起别名\n",
    "# from pizza import make_pizza as mp\n",
    "# mp()\n",
    "\n",
    "# 导入一个模块中的所有的函数\n",
    "# from pizza import *\n",
    "# make_pizza()"
   ],
   "metadata": {
    "collapsed": false
   }
  }
 ],
 "metadata": {
  "kernelspec": {
   "display_name": "Python 3",
   "language": "python",
   "name": "python3"
  },
  "language_info": {
   "codemirror_mode": {
    "name": "ipython",
    "version": 2
   },
   "file_extension": ".py",
   "mimetype": "text/x-python",
   "name": "python",
   "nbconvert_exporter": "python",
   "pygments_lexer": "ipython2",
   "version": "2.7.6"
  }
 },
 "nbformat": 4,
 "nbformat_minor": 0
}
