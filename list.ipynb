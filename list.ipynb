{
 "cells": [
  {
   "cell_type": "code",
   "execution_count": 11,
   "metadata": {
    "collapsed": true,
    "ExecuteTime": {
     "end_time": "2024-04-01T11:12:01.025088Z",
     "start_time": "2024-04-01T11:12:01.021340Z"
    }
   },
   "outputs": [
    {
     "name": "stdout",
     "output_type": "stream",
     "text": [
      "trek\n",
      "specialized\n",
      "['ducati', 'yamaha', 'suzuki']\n",
      "['ducati', 'yamaha', 'suzuki', 'honda']\n",
      "['baoma', 'ducati', 'yamaha', 'suzuki', 'honda']\n",
      "使用del方法删除元素：['ducati', 'yamaha', 'suzuki', 'honda']\n",
      "使用pop方法删除元素：honda\n",
      "['ducati', 'suzuki']\n",
      "['suzuki']\n"
     ]
    }
   ],
   "source": [
    "bicycles = ['trek', 'cannondale', 'redline', 'specialized']\n",
    "\n",
    "# 通过索引访问元素,通过-1 下标可以访问最后一个元素\n",
    "print(bicycles[0])\n",
    "print(bicycles[-1])\n",
    "\n",
    "\n",
    "# 修改、添加和删除元素\n",
    "motorcycles = ['honda', 'yamaha', 'suzuki']\n",
    "motorcycles[0] = 'ducati'\n",
    "print(motorcycles)\n",
    "\n",
    "motorcycles.append('honda')\n",
    "print(motorcycles)\n",
    "\n",
    "motorcycles.insert(0, 'baoma')\n",
    "print(motorcycles)\n",
    "\n",
    "# del删除元素\n",
    "del motorcycles[0]\n",
    "print(\"使用del方法删除元素：\" + str(motorcycles))\n",
    "\n",
    "# 使用pop方法删除元素并且返回被删除的值,默认是从尾部删除\n",
    "# pop方法也可以指定index\n",
    "poped = motorcycles.pop()\n",
    "print(\"使用pop方法删除元素：\" + poped)\n",
    "motorcycles.pop(1)\n",
    "print(motorcycles)\n",
    "\n",
    "# 根据值删除元素\n",
    "motorcycles.remove('ducati')\n",
    "print(motorcycles)"
   ]
  },
  {
   "cell_type": "code",
   "execution_count": 17,
   "outputs": [
    {
     "name": "stdout",
     "output_type": "stream",
     "text": [
      "['audi', 'bmw', 'subaru', 'toyota']\n",
      "['toyota', 'subaru', 'bmw', 'audi']\n",
      "['audi', 'bmw', 'subaru', 'toyota']\n",
      "['bmw', 'audi', 'toyota', 'subaru']\n",
      "['subaru', 'toyota', 'audi', 'bmw']\n",
      "4\n",
      "4\n"
     ]
    }
   ],
   "source": [
    "# 组织列表\n",
    "cars = ['bmw', 'audi', 'toyota', 'subaru']\n",
    "cars.sort()\n",
    "print(cars)\n",
    "# 使用sort对列表的排序后，修改是永久性的\n",
    "cars.sort(reverse=True)\n",
    "print(cars)\n",
    "\n",
    "\n",
    "# 如果想要保留列表的原始顺序，可以使用sorted进行历史排序\n",
    "# 其中的sorted函数同样可以指定reverse的值\n",
    "cars = ['bmw', 'audi', 'toyota', 'subaru']\n",
    "print(sorted(cars))\n",
    "print(cars)\n",
    "\n",
    "\n",
    "# 逆序打印列表,和上面的sort方法相同，修改对于列表来说也是永久性的\n",
    "cars.reverse()\n",
    "print(cars)\n",
    "\n",
    "\n",
    "# 列表的长度\n",
    "print(len(cars))\n",
    "print(cars.__len__())"
   ],
   "metadata": {
    "collapsed": false,
    "ExecuteTime": {
     "end_time": "2024-04-01T11:18:48.913259Z",
     "start_time": "2024-04-01T11:18:48.909097Z"
    }
   }
  },
  {
   "cell_type": "code",
   "execution_count": 20,
   "outputs": [
    {
     "name": "stdout",
     "output_type": "stream",
     "text": [
      "Alice, that was a great trick!\n",
      "David, that was a great trick!\n",
      "Carolina, that was a great trick!\n",
      "Thank you, everyone. That was a great magic show!\n"
     ]
    }
   ],
   "source": [
    "# 遍历列表\n",
    "magicians = ['alice', 'david', 'carolina']\n",
    "for magician in magicians:\n",
    "    print(magician.title() + \", that was a great trick!\")\n",
    "\n",
    "print(\"Thank you, everyone. That was a great magic show!\")"
   ],
   "metadata": {
    "collapsed": false,
    "ExecuteTime": {
     "end_time": "2024-04-01T11:24:23.395759Z",
     "start_time": "2024-04-01T11:24:23.391426Z"
    }
   }
  },
  {
   "cell_type": "code",
   "execution_count": 26,
   "outputs": [
    {
     "name": "stdout",
     "output_type": "stream",
     "text": [
      "1\n",
      "2\n",
      "3\n",
      "4\n",
      "[1, 2, 3, 4, 5, 6, 7, 8, 9, 10]\n",
      "[2, 4, 6, 8, 10]\n",
      "[1, 4, 9, 16, 25, 36, 49, 64, 81, 100]\n",
      "1\n",
      "100\n",
      "385\n",
      "[1, 4, 9, 16, 25, 36, 49, 64, 81, 100]\n"
     ]
    }
   ],
   "source": [
    "# 创建数值列表\n",
    "# 结果不包括5\n",
    "for value in range(1, 5):\n",
    "    print(value)\n",
    "\n",
    "\n",
    "# 使用range创建数字列表\n",
    "numbers = list(range(1, 11))\n",
    "print(numbers)\n",
    "\n",
    "# range函数还可以指定步长\n",
    "even_numbers = list(range(2, 11, 2))\n",
    "print(even_numbers)\n",
    "\n",
    "## example:创建一个列表包含从1 ~ 10的平方的数字\n",
    "res = []\n",
    "for value in range(1, 11):\n",
    "    num = value ** 2\n",
    "    res.append(num)\n",
    "print(res)\n",
    "\n",
    "# 对列表中的值进行简单的统计\n",
    "# min、 max、 sum\n",
    "print(min(res))\n",
    "print(max(res))\n",
    "print(sum(res))\n",
    "\n",
    "\n",
    "# 列表解析\n",
    "res = [value ** 2 for value in range(1, 11)]\n",
    "print(res)"
   ],
   "metadata": {
    "collapsed": false,
    "ExecuteTime": {
     "end_time": "2024-04-01T11:31:44.061609Z",
     "start_time": "2024-04-01T11:31:44.058124Z"
    }
   }
  },
  {
   "cell_type": "code",
   "execution_count": 28,
   "outputs": [
    {
     "name": "stdout",
     "output_type": "stream",
     "text": [
      "1\n",
      "2\n",
      "3\n",
      "4\n",
      "5\n",
      "6\n",
      "7\n",
      "8\n",
      "9\n",
      "10\n",
      "11\n",
      "12\n",
      "13\n",
      "14\n",
      "15\n",
      "16\n",
      "17\n",
      "18\n",
      "19\n",
      "20\n",
      "1\n",
      "2\n",
      "3\n",
      "4\n",
      "5\n",
      "6\n",
      "7\n",
      "8\n",
      "9\n",
      "10\n",
      "11\n",
      "12\n",
      "13\n",
      "14\n",
      "15\n",
      "16\n",
      "17\n",
      "18\n",
      "19\n",
      "20\n",
      "21\n",
      "22\n",
      "23\n",
      "24\n",
      "25\n",
      "26\n",
      "27\n",
      "28\n",
      "29\n",
      "30\n",
      "31\n",
      "32\n",
      "33\n",
      "34\n",
      "35\n",
      "36\n",
      "37\n",
      "38\n",
      "39\n",
      "40\n",
      "41\n",
      "42\n",
      "43\n",
      "44\n",
      "45\n",
      "46\n",
      "47\n",
      "48\n",
      "49\n",
      "50\n",
      "51\n",
      "52\n",
      "53\n",
      "54\n",
      "55\n",
      "56\n",
      "57\n",
      "58\n",
      "59\n",
      "60\n",
      "61\n",
      "62\n",
      "63\n",
      "64\n",
      "65\n",
      "66\n",
      "67\n",
      "68\n",
      "69\n",
      "70\n",
      "71\n",
      "72\n",
      "73\n",
      "74\n",
      "75\n",
      "76\n",
      "77\n",
      "78\n",
      "79\n",
      "80\n",
      "81\n",
      "82\n",
      "83\n",
      "84\n",
      "85\n",
      "86\n",
      "87\n",
      "88\n",
      "89\n",
      "90\n",
      "91\n",
      "92\n",
      "93\n",
      "94\n",
      "95\n",
      "96\n",
      "97\n",
      "98\n",
      "99\n",
      "100\n"
     ]
    }
   ],
   "source": [
    "# Exercise\n",
    "\n",
    "# 1. 使用一个 for 循环打印数字 1~20（含）\n",
    "for value in range(1, 21):\n",
    "    print(value)\n",
    "\n",
    "# 2. 创建一个列表，其中包含数字 1~1 000 000，再使用一个 for 循环将这些数字打印出来\n",
    "numbers = range(1, 1_01)\n",
    "for num in numbers:\n",
    "    print(num)"
   ],
   "metadata": {
    "collapsed": false,
    "ExecuteTime": {
     "end_time": "2024-04-01T11:35:40.745140Z",
     "start_time": "2024-04-01T11:35:40.739828Z"
    }
   }
  },
  {
   "cell_type": "code",
   "execution_count": 31,
   "outputs": [
    {
     "name": "stdout",
     "output_type": "stream",
     "text": [
      "1\n",
      "1000000\n",
      "500000500000\n",
      "1\n",
      "3\n",
      "5\n",
      "7\n",
      "9\n",
      "11\n",
      "13\n",
      "15\n",
      "17\n",
      "19\n"
     ]
    }
   ],
   "source": [
    "# 3.计算 1~1 000 000 的总和：创建一个列表，其中包含数字 1~1 000 000，再使用min()和 max()核实该列表确实是从 1 开始，到 1 000 000 结束的。另外，对这个列表调用函数 sum()，看看 Python 将一百万个数字相加需要多长时间\n",
    "\n",
    "numbers = range(1, 1_000_001)\n",
    "print(min(numbers))\n",
    "print(max(numbers))\n",
    "print(sum(numbers))\n",
    "\n",
    "\n",
    "# 4. 通过给函数 range()指定第三个参数来创建一个列表，其中包含 1~20 的奇数；再使用一个 for 循环将这些数字都打印出来\n",
    "for value in range(1, 21, 2):\n",
    "    print(value)"
   ],
   "metadata": {
    "collapsed": false,
    "ExecuteTime": {
     "end_time": "2024-04-01T11:38:21.580941Z",
     "start_time": "2024-04-01T11:38:21.556597Z"
    }
   }
  },
  {
   "cell_type": "code",
   "execution_count": 35,
   "outputs": [
    {
     "name": "stdout",
     "output_type": "stream",
     "text": [
      "3\n",
      "6\n",
      "9\n",
      "12\n",
      "15\n",
      "18\n",
      "21\n",
      "24\n",
      "27\n",
      "30\n",
      "1\n",
      "8\n",
      "27\n",
      "64\n",
      "125\n",
      "216\n",
      "343\n",
      "512\n",
      "729\n",
      "1000\n"
     ]
    }
   ],
   "source": [
    "# 5.：创建一个列表，其中包含 3~30 内能被 3 整除的数字；再使用一个 for 循环将这个列表中的数字都打印出来\n",
    "res = []\n",
    "for value in range(1, 31):\n",
    "    if value % 3 == 0:\n",
    "        res.append(value)\n",
    "\n",
    "\n",
    "\n",
    "for value in res:\n",
    "    print(value)\n",
    "\n",
    "\n",
    "# 6.使用列表解析生成一个列表，其中包含前 10 个整数的立方。\n",
    "res = [value ** 3 for value in range(1, 11)]\n",
    "for value in res:\n",
    "    print(value)"
   ],
   "metadata": {
    "collapsed": false,
    "ExecuteTime": {
     "end_time": "2024-04-01T11:44:01.397070Z",
     "start_time": "2024-04-01T11:44:01.387424Z"
    }
   }
  },
  {
   "cell_type": "code",
   "execution_count": 43,
   "outputs": [
    {
     "name": "stdout",
     "output_type": "stream",
     "text": [
      "['charles', 'martina', 'michael']\n",
      "['martina', 'michael', 'florence']\n",
      "['charles', 'martina', 'michael']\n",
      "['charles', 'martina', 'michael', 'florence']\n",
      "['michael', 'florence', 'eli']\n",
      "['florence', 'eli']\n",
      "charles\n",
      "martina\n",
      "michael\n",
      "['pizza', 'falafel', 'carrot cake']\n",
      "['pizza', 'falafel', 'carrot cake']\n"
     ]
    }
   ],
   "source": [
    "# 切片：处理列表中的部分元素\n",
    "players = ['charles', 'martina', 'michael', 'florence', 'eli']\n",
    "# 打印前三个队员，和range一样，不包含👉🏻的元素\n",
    "print(players[0:3])\n",
    "print(players[1:4])\n",
    "\n",
    "# 如果不指定开始的位置，就默认从开头开始\n",
    "print(players[:3])\n",
    "print(players[:4])\n",
    "\n",
    "\n",
    "# 从开始的某个位置切片到结束\n",
    "print(players[2:])\n",
    "# 也可以使用负数，表示从列表的末尾开始数,-2表示的是倒数第二个元素\n",
    "print(players[-2:])\n",
    "\n",
    "# 在遍历的过程中使用切片\n",
    "for player in players[:3]:\n",
    "    print(player)\n",
    "\n",
    "\n",
    "# 使用切片复制列表\n",
    "my_foods = ['pizza', 'falafel', 'carrot cake']\n",
    "# 没有指定头也没有指定尾，相当于是提取体重的每一个元素\n",
    "your_foods = my_foods[:]\n",
    "print(my_foods)\n",
    "print(your_foods)\n",
    "\n",
    "# 注意上面的复制写法和，赋值写法含义的区别\n",
    "# your_foods = my_foods： 表示两个变量指向的是同一个列表"
   ],
   "metadata": {
    "collapsed": false,
    "ExecuteTime": {
     "end_time": "2024-04-01T11:51:26.116124Z",
     "start_time": "2024-04-01T11:51:26.112783Z"
    }
   }
  }
 ],
 "metadata": {
  "kernelspec": {
   "display_name": "Python 3",
   "language": "python",
   "name": "python3"
  },
  "language_info": {
   "codemirror_mode": {
    "name": "ipython",
    "version": 2
   },
   "file_extension": ".py",
   "mimetype": "text/x-python",
   "name": "python",
   "nbconvert_exporter": "python",
   "pygments_lexer": "ipython2",
   "version": "2.7.6"
  }
 },
 "nbformat": 4,
 "nbformat_minor": 0
}
