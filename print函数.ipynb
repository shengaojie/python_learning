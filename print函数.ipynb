{
 "cells": [
  {
   "cell_type": "code",
   "execution_count": 7,
   "metadata": {
    "collapsed": true,
    "ExecuteTime": {
     "end_time": "2024-04-01T09:00:21.096405Z",
     "start_time": "2024-04-01T09:00:21.092405Z"
    }
   },
   "outputs": [
    {
     "name": "stdout",
     "output_type": "stream",
     "text": [
      "名字是shengaojie，年龄是27.体重是75.1\n",
      "名字是shengaojie,年龄是27,体重是75.1\n"
     ]
    }
   ],
   "source": [
    "name = \"shengaojie\"\n",
    "age = 27\n",
    "weight = 75.1\n",
    "print(f'名字是{name}，年龄是{age}.体重是{weight}')\n",
    "#%.1 保留一位小数\n",
    "#%s 表示该位置上是一个字符串\n",
    "#%d 表示该位置上是一个十进制的数\n",
    "print(\"名字是%s,年龄是%d,体重是%.1f\" %(name, age, weight))"
   ]
  }
 ],
 "metadata": {
  "kernelspec": {
   "display_name": "Python 3",
   "language": "python",
   "name": "python3"
  },
  "language_info": {
   "codemirror_mode": {
    "name": "ipython",
    "version": 2
   },
   "file_extension": ".py",
   "mimetype": "text/x-python",
   "name": "python",
   "nbconvert_exporter": "python",
   "pygments_lexer": "ipython2",
   "version": "2.7.6"
  }
 },
 "nbformat": 4,
 "nbformat_minor": 0
}
