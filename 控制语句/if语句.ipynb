{
 "cells": [
  {
   "cell_type": "code",
   "execution_count": 1,
   "metadata": {
    "collapsed": true,
    "ExecuteTime": {
     "end_time": "2024-04-01T15:37:04.615346Z",
     "start_time": "2024-04-01T15:37:04.611589Z"
    }
   },
   "outputs": [
    {
     "name": "stdout",
     "output_type": "stream",
     "text": [
      "Audi\n",
      "bmw\n",
      "Subaru\n",
      "Toyota\n",
      "yes\n",
      "yes\n",
      "True\n",
      "True\n"
     ]
    }
   ],
   "source": [
    "cars = ['audi', 'bmw', 'subaru', 'toyota']\n",
    "for car in cars:\n",
    "    if car == 'bmw':\n",
    "        print(car)\n",
    "    else:\n",
    "        print(car.title())\n",
    "\n",
    "\n",
    "# 使用and、or进行多条件检查\n",
    "age_1 = 20\n",
    "age_2 = 15\n",
    "if age_1 > 19 and age_2 < 17:\n",
    "    print(\"yes\")\n",
    "\n",
    "if age_1 < 18 or age_2 < 16:\n",
    "    print(\"yes\")\n",
    "\n",
    "# 检查特定的值是否包含在列表中\n",
    "requested_toppings = ['mushrooms', 'onions', 'pineapple']\n",
    "print('mushrooms' in requested_toppings)\n",
    "print('orange' not in requested_toppings)"
   ]
  },
  {
   "cell_type": "code",
   "execution_count": 7,
   "outputs": [
    {
     "name": "stdout",
     "output_type": "stream",
     "text": [
      "Sorry, you are too young to vote.\n",
      "Please register to vote as soon as you turn 18!\n",
      "Your admission cost is $5\n"
     ]
    }
   ],
   "source": [
    "# if 语法：if-else语句\n",
    "age = 17\n",
    "if age > 18:\n",
    "    print(\"You are old enough to vote!\")\n",
    "    print(\"Have you registered to vote yet?\")\n",
    "else:\n",
    "    print(\"Sorry, you are too young to vote.\")\n",
    "    print(\"Please register to vote as soon as you turn 18!\")\n",
    "\n",
    "\n",
    "# if-elif-else语句\n",
    "if age <= 4:\n",
    "    print(\"Your admission cost is $0\")\n",
    "elif 4 < age <= 18:\n",
    "    print(\"Your admission cost is $5\")\n",
    "else:\n",
    "    print(\"Your admission cost is $10\")\n",
    "\n",
    "# 不一定非要有else\n"
   ],
   "metadata": {
    "collapsed": false,
    "ExecuteTime": {
     "end_time": "2024-04-01T12:09:32.340245Z",
     "start_time": "2024-04-01T12:09:32.335582Z"
    }
   }
  },
  {
   "cell_type": "code",
   "execution_count": 8,
   "outputs": [
    {
     "name": "stdout",
     "output_type": "stream",
     "text": [
      "Are you sure you want a plain pizza?\n"
     ]
    }
   ],
   "source": [
    "# 确定列表是否为空\n",
    "res = []\n",
    "if res:\n",
    "    print()\n",
    "else:\n",
    "    print(\"Are you sure you want a plain pizza?\")"
   ],
   "metadata": {
    "collapsed": false,
    "ExecuteTime": {
     "end_time": "2024-04-01T12:10:43.558837Z",
     "start_time": "2024-04-01T12:10:43.554815Z"
    }
   }
  }
 ],
 "metadata": {
  "kernelspec": {
   "display_name": "Python 3",
   "language": "python",
   "name": "python3"
  },
  "language_info": {
   "codemirror_mode": {
    "name": "ipython",
    "version": 2
   },
   "file_extension": ".py",
   "mimetype": "text/x-python",
   "name": "python",
   "nbconvert_exporter": "python",
   "pygments_lexer": "ipython2",
   "version": "2.7.6"
  }
 },
 "nbformat": 4,
 "nbformat_minor": 0
}
