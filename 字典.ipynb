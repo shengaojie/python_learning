{
 "cells": [
  {
   "cell_type": "code",
   "execution_count": 7,
   "metadata": {
    "collapsed": true,
    "ExecuteTime": {
     "end_time": "2024-04-01T12:20:22.848426Z",
     "start_time": "2024-04-01T12:20:22.844082Z"
    }
   },
   "outputs": [
    {
     "name": "stdout",
     "output_type": "stream",
     "text": [
      "green\n",
      "5\n",
      "{'color': 'green', 'points': 5, 'x_position': 0, 'y_position': 25}\n",
      "{'color': 'yellow', 'points': 10, 'x_position': 10, 'y_position': 5}\n",
      "the alien_1's points 20\n",
      "{'color': 'green', 'x_position': 0, 'y_position': 25}\n"
     ]
    }
   ],
   "source": [
    "alien_0 = {'color': 'green', 'points': 5}\n",
    "print(alien_0['color'])\n",
    "print(alien_0['points'])\n",
    "\n",
    "# 添加键值对\n",
    "alien_0['x_position'] = 0\n",
    "alien_0['y_position'] = 25\n",
    "print(alien_0)\n",
    "\n",
    "# 创建一个空字典\n",
    "alien_1 = {}\n",
    "alien_1['color'] = 'yellow'\n",
    "alien_1['points'] = 10\n",
    "alien_1['x_position'] = 10\n",
    "alien_1['y_position'] = 5\n",
    "print(alien_1)\n",
    "\n",
    "\n",
    "# 修改字典中的值\n",
    "alien_1['points'] = 20\n",
    "print('the alien_1\\'s points ' + str(alien_1['points']))\n",
    "\n",
    "\n",
    "# 删除键值对\n",
    "del alien_0['points']\n",
    "print(alien_0)"
   ]
  },
  {
   "cell_type": "code",
   "execution_count": 18,
   "outputs": [
    {
     "name": "stdout",
     "output_type": "stream",
     "text": [
      "jack's favorite language is C++.\n",
      "Jen's favorite_language is Python.\n",
      "Jack's favorite_language is C++.\n",
      "Lili's favorite_language is Java.\n",
      "Phil's favorite_language is Js.\n",
      "Tom's favorite_language is Java.\n",
      "jen\n",
      "jack\n",
      "lili\n",
      "phil\n",
      "tom\n",
      "==========================\n",
      "jen\n",
      "jack\n",
      "lili\n",
      "phil\n",
      "tom\n",
      "==========================\n",
      "python\n",
      "c++\n",
      "java\n",
      "js\n",
      "java\n",
      "==========================\n",
      "Jack, thank you for taking the poll\n",
      "Jen, thank you for taking the poll\n",
      "Lili, thank you for taking the poll\n",
      "Phil, thank you for taking the poll\n",
      "Tom, thank you for taking the poll\n",
      "==========================\n",
      "C++\n",
      "Js\n",
      "Java\n",
      "Python\n"
     ]
    }
   ],
   "source": [
    "# 可以使用字典来存储众多对象的同一个信息\n",
    "# 最后一个花括号缩进一个tab\n",
    "favorite_languages = {\n",
    "    'jen': 'python',\n",
    "    'jack': 'c++',\n",
    "    'lili': 'java',\n",
    "    'phil': 'js',\n",
    "    'tom': 'java'\n",
    "    }\n",
    "\n",
    "print(\"jack's favorite language is \" + favorite_languages['jack'].title() + \".\")\n",
    "\n",
    "\n",
    "# 字典的遍历\n",
    "for name, language in favorite_languages.items():\n",
    "    print(name.title() + \"'s favorite_language is \" +\n",
    "          language.title() + \".\")\n",
    "\n",
    "\n",
    "# 遍历所有的键,默认就是遍历所有的键，因此两个是同样的意思\n",
    "for name in favorite_languages.keys():\n",
    "    print(name)\n",
    "print(\"==========================\")\n",
    "for name in favorite_languages:\n",
    "    print(name)\n",
    "print(\"==========================\")\n",
    "# 遍历字典中所有的值\n",
    "for language in favorite_languages.values():\n",
    "    print(language)\n",
    "print(\"==========================\")\n",
    "\n",
    "# 字典中主要是用来记录键值对的关系的，但是获取的元素的顺序不可以保证\n",
    "# 如果想要获取特定的顺序的元素，可以使用sorted方法来排序\n",
    "for name in sorted(favorite_languages.keys()):\n",
    "    print(name.title() + \", thank you for taking the poll\")\n",
    "print(\"==========================\")\n",
    "# 通过使用set方法可以排除相同的元素\n",
    "for language in set(favorite_languages.values()):\n",
    "    print(language.title())"
   ],
   "metadata": {
    "collapsed": false,
    "ExecuteTime": {
     "end_time": "2024-04-01T12:34:48.204496Z",
     "start_time": "2024-04-01T12:34:48.192386Z"
    }
   }
  },
  {
   "cell_type": "code",
   "execution_count": 22,
   "outputs": [
    {
     "name": "stdout",
     "output_type": "stream",
     "text": [
      "{'color': 'green', 'points': 5}\n",
      "{'color': 'yellow', 'points': 10}\n",
      "{'color': 'red', 'points': 15}\n",
      "创建了30个外星人....\n",
      "{'color': 'yellow', 'points': 10}\n",
      "{'color': 'yellow', 'points': 10}\n",
      "{'color': 'yellow', 'points': 10}\n",
      "{'color': 'yellow', 'points': 10}\n",
      "{'color': 'yellow', 'points': 10}\n"
     ]
    }
   ],
   "source": [
    "# 字典列表\n",
    "alien_0 = {'color': 'green', 'points': 5}\n",
    "alien_1 = {'color': 'yellow', 'points': 10}\n",
    "alien_2 = {'color': 'red', 'points': 15}\n",
    "\n",
    "aliens = [alien_0, alien_1, alien_2]\n",
    "for alien in aliens:\n",
    "    print(alien)\n",
    "\n",
    "\n",
    "# 创建30个外星人，并显示前五个\n",
    "aliens = []\n",
    "for value in range(30):\n",
    "    alien = {'color': 'yellow', 'points': 10}\n",
    "    aliens.append(alien)\n",
    "\n",
    "print(\"创建了30个外星人....\")\n",
    "\n",
    "for alien in aliens[:5]:\n",
    "    print(alien)"
   ],
   "metadata": {
    "collapsed": false,
    "ExecuteTime": {
     "end_time": "2024-04-01T12:41:21.113104Z",
     "start_time": "2024-04-01T12:41:21.092810Z"
    }
   }
  },
  {
   "cell_type": "code",
   "execution_count": 25,
   "outputs": [
    {
     "name": "stdout",
     "output_type": "stream",
     "text": [
      "\tmushrooms\n",
      "\textra cheese\n",
      "Jen, favorite languages are: \n",
      "\tPython\n",
      "\tJava\n",
      "Jack, favorite languages are: \n",
      "\tC++\n",
      "\tC#\n",
      "\tC\n",
      "Tom, favorite languages are: \n",
      "\tJava\n",
      "\tJs\n",
      "Lili, favorite languages are: \n",
      "\tHtml\n",
      "\tCss\n"
     ]
    }
   ],
   "source": [
    "# 在字典中存储列表\n",
    "# 字典中的一个键的值是列表\n",
    "pizza = {\n",
    "    'crust': 'thick',\n",
    "    'toppings': ['mushrooms', 'extra cheese']\n",
    "    }\n",
    "\n",
    "for topping in pizza['toppings']:\n",
    "    print(\"\\t\" + topping)\n",
    "\n",
    "\n",
    "\n",
    "favorite_languages = {\n",
    "    'jen': ['python', 'java'],\n",
    "    'jack': ['c++', 'c#', 'c'],\n",
    "    'tom': ['java', 'js'],\n",
    "    'lili': ['html', 'css']\n",
    "    }\n",
    "\n",
    "for name, languages in favorite_languages.items():\n",
    "    print(name.title() + \", favorite languages are: \")\n",
    "    for language in languages:\n",
    "        print(\"\\t\" + language.title())"
   ],
   "metadata": {
    "collapsed": false,
    "ExecuteTime": {
     "end_time": "2024-04-01T12:46:23.874554Z",
     "start_time": "2024-04-01T12:46:23.863801Z"
    }
   }
  },
  {
   "cell_type": "code",
   "execution_count": 28,
   "outputs": [
    {
     "name": "stdout",
     "output_type": "stream",
     "text": [
      "Username：shengaojie\n",
      "\tfist_name: shen\n",
      "\tlast_name: gaojie\n",
      "\tlocation: hebei\n",
      "Username：yangtianci\n",
      "\tfist_name: yang\n",
      "\tlast_name: tianci\n",
      "\tlocation: nanjing\n"
     ]
    }
   ],
   "source": [
    "# 字典中存储字典\n",
    "users = {\n",
    "    'shengaojie': {\n",
    "        'first': 'shen',\n",
    "        'last': 'gaojie',\n",
    "        'location': 'hebei'\n",
    "        },\n",
    "\n",
    "    'yangtianci': {\n",
    "        'first': 'yang',\n",
    "        'last': 'tianci',\n",
    "        'location': 'nanjing'\n",
    "         }\n",
    "    }\n",
    "\n",
    "for name, userInfo in users.items():\n",
    "    print(\"Username：\" + name)\n",
    "    print('\\tfist_name: ' + userInfo['first'])\n",
    "    print('\\tlast_name: ' + userInfo['last'])\n",
    "    print('\\tlocation: ' + userInfo['location'])"
   ],
   "metadata": {
    "collapsed": false,
    "ExecuteTime": {
     "end_time": "2024-04-01T12:51:50.252132Z",
     "start_time": "2024-04-01T12:51:50.248153Z"
    }
   }
  }
 ],
 "metadata": {
  "kernelspec": {
   "display_name": "Python 3",
   "language": "python",
   "name": "python3"
  },
  "language_info": {
   "codemirror_mode": {
    "name": "ipython",
    "version": 2
   },
   "file_extension": ".py",
   "mimetype": "text/x-python",
   "name": "python",
   "nbconvert_exporter": "python",
   "pygments_lexer": "ipython2",
   "version": "2.7.6"
  }
 },
 "nbformat": 4,
 "nbformat_minor": 0
}
